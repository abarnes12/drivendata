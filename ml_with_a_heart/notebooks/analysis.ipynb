{
 "cells": [
  {
   "cell_type": "markdown",
   "metadata": {},
   "source": [
    "# Analysis"
   ]
  },
  {
   "cell_type": "code",
   "execution_count": 115,
   "metadata": {},
   "outputs": [],
   "source": [
    "import os\n",
    "\n",
    "%matplotlib inline\n",
    "import matplotlib\n",
    "import matplotlib.pyplot as plt\n",
    "import numpy as np\n",
    "import pandas as pd\n",
    "from sklearn.discriminant_analysis import QuadraticDiscriminantAnalysis\n",
    "from sklearn.ensemble import AdaBoostClassifier, RandomForestClassifier\n",
    "from sklearn.gaussian_process import GaussianProcessClassifier\n",
    "from sklearn.gaussian_process.kernels import RBF\n",
    "from sklearn.linear_model import LogisticRegression\n",
    "from sklearn.model_selection import GridSearchCV, StratifiedKFold\n",
    "from sklearn.naive_bayes import GaussianNB\n",
    "from sklearn.neighbors import KNeighborsClassifier\n",
    "from sklearn.neural_network import MLPClassifier\n",
    "from sklearn.preprocessing import LabelEncoder, MinMaxScaler, StandardScaler\n",
    "from sklearn.svm import SVC\n",
    "from sklearn.tree import DecisionTreeClassifier\n",
    "import seaborn as sns"
   ]
  },
  {
   "cell_type": "code",
   "execution_count": 70,
   "metadata": {},
   "outputs": [],
   "source": [
    "os.chdir('../data')\n",
    "DATA_DIR = os.getcwd()"
   ]
  },
  {
   "cell_type": "markdown",
   "metadata": {},
   "source": [
    "## Convert data to proper dtypes"
   ]
  },
  {
   "cell_type": "code",
   "execution_count": 71,
   "metadata": {},
   "outputs": [],
   "source": [
    "float16_cols = ['oldpeak_eq_st_depression']\n",
    "categorical_cols = ['thal']\n",
    "uint8_cols = ['sex', 'fasting_blood_sugar_gt_120_mg_per_dl', 'exercise_induced_angina', 'slope_of_peak_exercise_st_segment', 'resting_blood_pressure', 'chest_pain_type', 'num_major_vessels', 'resting_ekg_results', 'age', 'max_heart_rate_achieved']\n",
    "uint16_cols = ['serum_cholesterol_mg_per_dl']\n",
    "dtype_dict = {}\n",
    "for c in float16_cols:\n",
    "    dtype_dict[c] = np.float16\n",
    "for c in categorical_cols:\n",
    "    dtype_dict[c] = np.object\n",
    "for c in uint8_cols:\n",
    "    dtype_dict[c] = np.uint8\n",
    "for c in uint16_cols:\n",
    "    dtype_dict[c] = np.uint16"
   ]
  },
  {
   "cell_type": "code",
   "execution_count": 72,
   "metadata": {},
   "outputs": [],
   "source": [
    "df_x = pd.read_csv(DATA_DIR + '/raw/train_values.csv', dtype=dtype_dict)\n",
    "df_y = pd.read_csv(DATA_DIR + '/raw/train_labels.csv', dtype=dtype_dict)\n",
    "df_x_test = pd.read_csv(DATA_DIR + '/raw/test_values.csv', dtype=dtype_dict)"
   ]
  },
  {
   "cell_type": "code",
   "execution_count": 73,
   "metadata": {},
   "outputs": [
    {
     "name": "stdout",
     "output_type": "stream",
     "text": [
      "<class 'pandas.core.frame.DataFrame'>\n",
      "RangeIndex: 180 entries, 0 to 179\n",
      "Data columns (total 14 columns):\n",
      "patient_id                              180 non-null object\n",
      "slope_of_peak_exercise_st_segment       180 non-null uint8\n",
      "thal                                    180 non-null object\n",
      "resting_blood_pressure                  180 non-null uint8\n",
      "chest_pain_type                         180 non-null uint8\n",
      "num_major_vessels                       180 non-null uint8\n",
      "fasting_blood_sugar_gt_120_mg_per_dl    180 non-null uint8\n",
      "resting_ekg_results                     180 non-null uint8\n",
      "serum_cholesterol_mg_per_dl             180 non-null uint16\n",
      "oldpeak_eq_st_depression                180 non-null float16\n",
      "sex                                     180 non-null uint8\n",
      "age                                     180 non-null uint8\n",
      "max_heart_rate_achieved                 180 non-null uint8\n",
      "exercise_induced_angina                 180 non-null uint8\n",
      "dtypes: float16(1), object(2), uint16(1), uint8(10)\n",
      "memory usage: 5.4+ KB\n"
     ]
    }
   ],
   "source": [
    "df_x.info()"
   ]
  },
  {
   "cell_type": "markdown",
   "metadata": {},
   "source": [
    "## Scale numerical data with MinMaxScaler() "
   ]
  },
  {
   "cell_type": "code",
   "execution_count": 74,
   "metadata": {},
   "outputs": [],
   "source": [
    "cols_for_scaler = ['age', 'max_heart_rate_achieved', 'oldpeak_eq_st_depression', 'resting_blood_pressure', 'serum_cholesterol_mg_per_dl']"
   ]
  },
  {
   "cell_type": "code",
   "execution_count": 75,
   "metadata": {},
   "outputs": [
    {
     "name": "stderr",
     "output_type": "stream",
     "text": [
      "/home/alexb/miniconda3/envs/ds/lib/python3.6/site-packages/sklearn/preprocessing/data.py:617: DataConversionWarning: Data with input dtype uint8, float16, uint16 were all converted to float64 by StandardScaler.\n",
      "  return self.partial_fit(X, y)\n",
      "/home/alexb/miniconda3/envs/ds/lib/python3.6/site-packages/sklearn/base.py:462: DataConversionWarning: Data with input dtype uint8, float16, uint16 were all converted to float64 by StandardScaler.\n",
      "  return self.fit(X, **fit_params).transform(X)\n",
      "/home/alexb/miniconda3/envs/ds/lib/python3.6/site-packages/ipykernel_launcher.py:4: DataConversionWarning: Data with input dtype uint8, float16, uint16 were all converted to float64 by StandardScaler.\n",
      "  after removing the cwd from sys.path.\n"
     ]
    }
   ],
   "source": [
    "# Standard Scaler\n",
    "std_scaler = StandardScaler()\n",
    "df_x[cols_for_scaler] = std_scaler.fit_transform(df_x[cols_for_scaler])\n",
    "df_x_test[cols_for_scaler] = std_scaler.transform(df_x_test[cols_for_scaler])"
   ]
  },
  {
   "cell_type": "code",
   "execution_count": 83,
   "metadata": {},
   "outputs": [
    {
     "name": "stderr",
     "output_type": "stream",
     "text": [
      "/home/alexb/miniconda3/envs/ds/lib/python3.6/site-packages/sklearn/preprocessing/data.py:323: DataConversionWarning: Data with input dtype float32 were all converted to float64 by MinMaxScaler.\n",
      "  return self.partial_fit(X, y)\n"
     ]
    }
   ],
   "source": [
    "min_max_scaler = MinMaxScaler(copy=False)\n",
    "df_x[cols_for_scaler] = min_max_scaler.fit_transform(df_x[cols_for_scaler])\n",
    "df_x_test[cols_for_scaler] = min_max_scaler.transform(df_x_test[cols_for_scaler])\n",
    "\n"
   ]
  },
  {
   "cell_type": "code",
   "execution_count": 76,
   "metadata": {},
   "outputs": [
    {
     "name": "stdout",
     "output_type": "stream",
     "text": [
      "<class 'pandas.core.frame.DataFrame'>\n",
      "RangeIndex: 180 entries, 0 to 179\n",
      "Data columns (total 14 columns):\n",
      "patient_id                              180 non-null object\n",
      "slope_of_peak_exercise_st_segment       180 non-null uint8\n",
      "thal                                    180 non-null object\n",
      "resting_blood_pressure                  180 non-null float32\n",
      "chest_pain_type                         180 non-null uint8\n",
      "num_major_vessels                       180 non-null uint8\n",
      "fasting_blood_sugar_gt_120_mg_per_dl    180 non-null uint8\n",
      "resting_ekg_results                     180 non-null uint8\n",
      "serum_cholesterol_mg_per_dl             180 non-null float32\n",
      "oldpeak_eq_st_depression                180 non-null float32\n",
      "sex                                     180 non-null uint8\n",
      "age                                     180 non-null float32\n",
      "max_heart_rate_achieved                 180 non-null float32\n",
      "exercise_induced_angina                 180 non-null uint8\n",
      "dtypes: float32(5), object(2), uint8(7)\n",
      "memory usage: 7.6+ KB\n"
     ]
    }
   ],
   "source": [
    "# Even though the data set is small, keep memory footprint low\n",
    "df_x[cols_for_scaler] = df_x[cols_for_scaler].apply(pd.to_numeric, downcast='float')\n",
    "df_x.info()"
   ]
  },
  {
   "cell_type": "code",
   "execution_count": 77,
   "metadata": {},
   "outputs": [
    {
     "data": {
      "text/html": [
       "<div>\n",
       "<style scoped>\n",
       "    .dataframe tbody tr th:only-of-type {\n",
       "        vertical-align: middle;\n",
       "    }\n",
       "\n",
       "    .dataframe tbody tr th {\n",
       "        vertical-align: top;\n",
       "    }\n",
       "\n",
       "    .dataframe thead th {\n",
       "        text-align: right;\n",
       "    }\n",
       "</style>\n",
       "<table border=\"1\" class=\"dataframe\">\n",
       "  <thead>\n",
       "    <tr style=\"text-align: right;\">\n",
       "      <th></th>\n",
       "      <th>patient_id</th>\n",
       "      <th>slope_of_peak_exercise_st_segment</th>\n",
       "      <th>thal</th>\n",
       "      <th>resting_blood_pressure</th>\n",
       "      <th>chest_pain_type</th>\n",
       "      <th>num_major_vessels</th>\n",
       "      <th>fasting_blood_sugar_gt_120_mg_per_dl</th>\n",
       "      <th>resting_ekg_results</th>\n",
       "      <th>serum_cholesterol_mg_per_dl</th>\n",
       "      <th>oldpeak_eq_st_depression</th>\n",
       "      <th>sex</th>\n",
       "      <th>age</th>\n",
       "      <th>max_heart_rate_achieved</th>\n",
       "      <th>exercise_induced_angina</th>\n",
       "    </tr>\n",
       "  </thead>\n",
       "  <tbody>\n",
       "    <tr>\n",
       "      <th>0</th>\n",
       "      <td>0z64un</td>\n",
       "      <td>1</td>\n",
       "      <td>normal</td>\n",
       "      <td>-0.195195</td>\n",
       "      <td>2</td>\n",
       "      <td>0</td>\n",
       "      <td>0</td>\n",
       "      <td>2</td>\n",
       "      <td>1.118269</td>\n",
       "      <td>-0.903200</td>\n",
       "      <td>1</td>\n",
       "      <td>-1.053964</td>\n",
       "      <td>0.932485</td>\n",
       "      <td>0</td>\n",
       "    </tr>\n",
       "    <tr>\n",
       "      <th>1</th>\n",
       "      <td>ryoo3j</td>\n",
       "      <td>2</td>\n",
       "      <td>normal</td>\n",
       "      <td>-1.256320</td>\n",
       "      <td>3</td>\n",
       "      <td>0</td>\n",
       "      <td>0</td>\n",
       "      <td>0</td>\n",
       "      <td>-0.669778</td>\n",
       "      <td>0.527267</td>\n",
       "      <td>0</td>\n",
       "      <td>-0.087134</td>\n",
       "      <td>0.387084</td>\n",
       "      <td>0</td>\n",
       "    </tr>\n",
       "    <tr>\n",
       "      <th>2</th>\n",
       "      <td>yt1s1x</td>\n",
       "      <td>1</td>\n",
       "      <td>normal</td>\n",
       "      <td>-0.372049</td>\n",
       "      <td>4</td>\n",
       "      <td>3</td>\n",
       "      <td>0</td>\n",
       "      <td>2</td>\n",
       "      <td>1.042182</td>\n",
       "      <td>-0.903200</td>\n",
       "      <td>1</td>\n",
       "      <td>2.383654</td>\n",
       "      <td>0.568884</td>\n",
       "      <td>1</td>\n",
       "    </tr>\n",
       "    <tr>\n",
       "      <th>3</th>\n",
       "      <td>l2xjde</td>\n",
       "      <td>1</td>\n",
       "      <td>reversible_defect</td>\n",
       "      <td>1.219639</td>\n",
       "      <td>4</td>\n",
       "      <td>0</td>\n",
       "      <td>0</td>\n",
       "      <td>0</td>\n",
       "      <td>-0.498582</td>\n",
       "      <td>-0.903200</td>\n",
       "      <td>1</td>\n",
       "      <td>-1.591092</td>\n",
       "      <td>1.432436</td>\n",
       "      <td>0</td>\n",
       "    </tr>\n",
       "    <tr>\n",
       "      <th>4</th>\n",
       "      <td>oyt4ek</td>\n",
       "      <td>3</td>\n",
       "      <td>reversible_defect</td>\n",
       "      <td>2.752375</td>\n",
       "      <td>1</td>\n",
       "      <td>0</td>\n",
       "      <td>0</td>\n",
       "      <td>2</td>\n",
       "      <td>0.395442</td>\n",
       "      <td>2.851995</td>\n",
       "      <td>1</td>\n",
       "      <td>0.449994</td>\n",
       "      <td>-0.203768</td>\n",
       "      <td>0</td>\n",
       "    </tr>\n",
       "  </tbody>\n",
       "</table>\n",
       "</div>"
      ],
      "text/plain": [
       "  patient_id  slope_of_peak_exercise_st_segment               thal  \\\n",
       "0     0z64un                                  1             normal   \n",
       "1     ryoo3j                                  2             normal   \n",
       "2     yt1s1x                                  1             normal   \n",
       "3     l2xjde                                  1  reversible_defect   \n",
       "4     oyt4ek                                  3  reversible_defect   \n",
       "\n",
       "   resting_blood_pressure  chest_pain_type  num_major_vessels  \\\n",
       "0               -0.195195                2                  0   \n",
       "1               -1.256320                3                  0   \n",
       "2               -0.372049                4                  3   \n",
       "3                1.219639                4                  0   \n",
       "4                2.752375                1                  0   \n",
       "\n",
       "   fasting_blood_sugar_gt_120_mg_per_dl  resting_ekg_results  \\\n",
       "0                                     0                    2   \n",
       "1                                     0                    0   \n",
       "2                                     0                    2   \n",
       "3                                     0                    0   \n",
       "4                                     0                    2   \n",
       "\n",
       "   serum_cholesterol_mg_per_dl  oldpeak_eq_st_depression  sex       age  \\\n",
       "0                     1.118269                 -0.903200    1 -1.053964   \n",
       "1                    -0.669778                  0.527267    0 -0.087134   \n",
       "2                     1.042182                 -0.903200    1  2.383654   \n",
       "3                    -0.498582                 -0.903200    1 -1.591092   \n",
       "4                     0.395442                  2.851995    1  0.449994   \n",
       "\n",
       "   max_heart_rate_achieved  exercise_induced_angina  \n",
       "0                 0.932485                        0  \n",
       "1                 0.387084                        0  \n",
       "2                 0.568884                        1  \n",
       "3                 1.432436                        0  \n",
       "4                -0.203768                        0  "
      ]
     },
     "execution_count": 77,
     "metadata": {},
     "output_type": "execute_result"
    }
   ],
   "source": [
    "df_x.head()"
   ]
  },
  {
   "cell_type": "markdown",
   "metadata": {},
   "source": [
    "## One-hot encode categorical data"
   ]
  },
  {
   "cell_type": "code",
   "execution_count": 78,
   "metadata": {},
   "outputs": [],
   "source": [
    "label_enc_cols = ['thal']\n",
    "one_hot_cols = ['slope_of_peak_exercise_st_segment', 'num_major_vessels', 'chest_pain_type', 'resting_ekg_results', 'sex', 'thal']"
   ]
  },
  {
   "cell_type": "code",
   "execution_count": 79,
   "metadata": {},
   "outputs": [
    {
     "data": {
      "text/plain": [
       "LabelEncoder()"
      ]
     },
     "execution_count": 79,
     "metadata": {},
     "output_type": "execute_result"
    }
   ],
   "source": [
    "label_encoder = LabelEncoder()\n",
    "label_encoder.fit(['normal', 'fixed_defect', 'reversible_defect'])"
   ]
  },
  {
   "cell_type": "code",
   "execution_count": 80,
   "metadata": {},
   "outputs": [],
   "source": [
    "# encode the 'thal' labels as integers\n",
    "df_x[label_enc_cols] = label_encoder.transform(df_x[label_enc_cols].values.ravel())\n",
    "df_x_test[label_enc_cols] = label_encoder.transform(df_x_test[label_enc_cols].values.ravel())"
   ]
  },
  {
   "cell_type": "code",
   "execution_count": 81,
   "metadata": {},
   "outputs": [
    {
     "data": {
      "text/html": [
       "<div>\n",
       "<style scoped>\n",
       "    .dataframe tbody tr th:only-of-type {\n",
       "        vertical-align: middle;\n",
       "    }\n",
       "\n",
       "    .dataframe tbody tr th {\n",
       "        vertical-align: top;\n",
       "    }\n",
       "\n",
       "    .dataframe thead th {\n",
       "        text-align: right;\n",
       "    }\n",
       "</style>\n",
       "<table border=\"1\" class=\"dataframe\">\n",
       "  <thead>\n",
       "    <tr style=\"text-align: right;\">\n",
       "      <th></th>\n",
       "      <th>patient_id</th>\n",
       "      <th>slope_of_peak_exercise_st_segment</th>\n",
       "      <th>thal</th>\n",
       "      <th>resting_blood_pressure</th>\n",
       "      <th>chest_pain_type</th>\n",
       "      <th>num_major_vessels</th>\n",
       "      <th>fasting_blood_sugar_gt_120_mg_per_dl</th>\n",
       "      <th>resting_ekg_results</th>\n",
       "      <th>serum_cholesterol_mg_per_dl</th>\n",
       "      <th>oldpeak_eq_st_depression</th>\n",
       "      <th>sex</th>\n",
       "      <th>age</th>\n",
       "      <th>max_heart_rate_achieved</th>\n",
       "      <th>exercise_induced_angina</th>\n",
       "    </tr>\n",
       "  </thead>\n",
       "  <tbody>\n",
       "    <tr>\n",
       "      <th>0</th>\n",
       "      <td>0z64un</td>\n",
       "      <td>1</td>\n",
       "      <td>1</td>\n",
       "      <td>-0.195195</td>\n",
       "      <td>2</td>\n",
       "      <td>0</td>\n",
       "      <td>0</td>\n",
       "      <td>2</td>\n",
       "      <td>1.118269</td>\n",
       "      <td>-0.903200</td>\n",
       "      <td>1</td>\n",
       "      <td>-1.053964</td>\n",
       "      <td>0.932485</td>\n",
       "      <td>0</td>\n",
       "    </tr>\n",
       "    <tr>\n",
       "      <th>1</th>\n",
       "      <td>ryoo3j</td>\n",
       "      <td>2</td>\n",
       "      <td>1</td>\n",
       "      <td>-1.256320</td>\n",
       "      <td>3</td>\n",
       "      <td>0</td>\n",
       "      <td>0</td>\n",
       "      <td>0</td>\n",
       "      <td>-0.669778</td>\n",
       "      <td>0.527267</td>\n",
       "      <td>0</td>\n",
       "      <td>-0.087134</td>\n",
       "      <td>0.387084</td>\n",
       "      <td>0</td>\n",
       "    </tr>\n",
       "    <tr>\n",
       "      <th>2</th>\n",
       "      <td>yt1s1x</td>\n",
       "      <td>1</td>\n",
       "      <td>1</td>\n",
       "      <td>-0.372049</td>\n",
       "      <td>4</td>\n",
       "      <td>3</td>\n",
       "      <td>0</td>\n",
       "      <td>2</td>\n",
       "      <td>1.042182</td>\n",
       "      <td>-0.903200</td>\n",
       "      <td>1</td>\n",
       "      <td>2.383654</td>\n",
       "      <td>0.568884</td>\n",
       "      <td>1</td>\n",
       "    </tr>\n",
       "    <tr>\n",
       "      <th>3</th>\n",
       "      <td>l2xjde</td>\n",
       "      <td>1</td>\n",
       "      <td>2</td>\n",
       "      <td>1.219639</td>\n",
       "      <td>4</td>\n",
       "      <td>0</td>\n",
       "      <td>0</td>\n",
       "      <td>0</td>\n",
       "      <td>-0.498582</td>\n",
       "      <td>-0.903200</td>\n",
       "      <td>1</td>\n",
       "      <td>-1.591092</td>\n",
       "      <td>1.432436</td>\n",
       "      <td>0</td>\n",
       "    </tr>\n",
       "    <tr>\n",
       "      <th>4</th>\n",
       "      <td>oyt4ek</td>\n",
       "      <td>3</td>\n",
       "      <td>2</td>\n",
       "      <td>2.752375</td>\n",
       "      <td>1</td>\n",
       "      <td>0</td>\n",
       "      <td>0</td>\n",
       "      <td>2</td>\n",
       "      <td>0.395442</td>\n",
       "      <td>2.851995</td>\n",
       "      <td>1</td>\n",
       "      <td>0.449994</td>\n",
       "      <td>-0.203768</td>\n",
       "      <td>0</td>\n",
       "    </tr>\n",
       "  </tbody>\n",
       "</table>\n",
       "</div>"
      ],
      "text/plain": [
       "  patient_id  slope_of_peak_exercise_st_segment  thal  resting_blood_pressure  \\\n",
       "0     0z64un                                  1     1               -0.195195   \n",
       "1     ryoo3j                                  2     1               -1.256320   \n",
       "2     yt1s1x                                  1     1               -0.372049   \n",
       "3     l2xjde                                  1     2                1.219639   \n",
       "4     oyt4ek                                  3     2                2.752375   \n",
       "\n",
       "   chest_pain_type  num_major_vessels  fasting_blood_sugar_gt_120_mg_per_dl  \\\n",
       "0                2                  0                                     0   \n",
       "1                3                  0                                     0   \n",
       "2                4                  3                                     0   \n",
       "3                4                  0                                     0   \n",
       "4                1                  0                                     0   \n",
       "\n",
       "   resting_ekg_results  serum_cholesterol_mg_per_dl  oldpeak_eq_st_depression  \\\n",
       "0                    2                     1.118269                 -0.903200   \n",
       "1                    0                    -0.669778                  0.527267   \n",
       "2                    2                     1.042182                 -0.903200   \n",
       "3                    0                    -0.498582                 -0.903200   \n",
       "4                    2                     0.395442                  2.851995   \n",
       "\n",
       "   sex       age  max_heart_rate_achieved  exercise_induced_angina  \n",
       "0    1 -1.053964                 0.932485                        0  \n",
       "1    0 -0.087134                 0.387084                        0  \n",
       "2    1  2.383654                 0.568884                        1  \n",
       "3    1 -1.591092                 1.432436                        0  \n",
       "4    1  0.449994                -0.203768                        0  "
      ]
     },
     "execution_count": 81,
     "metadata": {},
     "output_type": "execute_result"
    }
   ],
   "source": [
    "df_x.head()"
   ]
  },
  {
   "cell_type": "code",
   "execution_count": 82,
   "metadata": {},
   "outputs": [],
   "source": [
    "# one-hot encode\n",
    "# first concat the training and test so that in the end, both will have the same number of columns\n",
    "encoded = pd.get_dummies(pd.concat([df_x, df_x_test], axis=0), columns=one_hot_cols, drop_first=True)\n",
    "df_x = encoded.iloc[:df_x.shape[0], :]\n",
    "df_x_test = encoded.iloc[df_x.shape[0]:, :]\n",
    "#df_x = pd.get_dummies(df_x, columns=one_hot_cols)\n",
    "#df_x_test = pd.get_dummies(df_x_test, columns=one_hot_cols, drop_first=True)"
   ]
  },
  {
   "cell_type": "code",
   "execution_count": 83,
   "metadata": {},
   "outputs": [
    {
     "data": {
      "text/html": [
       "<div>\n",
       "<style scoped>\n",
       "    .dataframe tbody tr th:only-of-type {\n",
       "        vertical-align: middle;\n",
       "    }\n",
       "\n",
       "    .dataframe tbody tr th {\n",
       "        vertical-align: top;\n",
       "    }\n",
       "\n",
       "    .dataframe thead th {\n",
       "        text-align: right;\n",
       "    }\n",
       "</style>\n",
       "<table border=\"1\" class=\"dataframe\">\n",
       "  <thead>\n",
       "    <tr style=\"text-align: right;\">\n",
       "      <th></th>\n",
       "      <th>patient_id</th>\n",
       "      <th>resting_blood_pressure</th>\n",
       "      <th>fasting_blood_sugar_gt_120_mg_per_dl</th>\n",
       "      <th>serum_cholesterol_mg_per_dl</th>\n",
       "      <th>oldpeak_eq_st_depression</th>\n",
       "      <th>age</th>\n",
       "      <th>max_heart_rate_achieved</th>\n",
       "      <th>exercise_induced_angina</th>\n",
       "      <th>slope_of_peak_exercise_st_segment_2</th>\n",
       "      <th>slope_of_peak_exercise_st_segment_3</th>\n",
       "      <th>...</th>\n",
       "      <th>num_major_vessels_2</th>\n",
       "      <th>num_major_vessels_3</th>\n",
       "      <th>chest_pain_type_2</th>\n",
       "      <th>chest_pain_type_3</th>\n",
       "      <th>chest_pain_type_4</th>\n",
       "      <th>resting_ekg_results_1</th>\n",
       "      <th>resting_ekg_results_2</th>\n",
       "      <th>sex_1</th>\n",
       "      <th>thal_1</th>\n",
       "      <th>thal_2</th>\n",
       "    </tr>\n",
       "  </thead>\n",
       "  <tbody>\n",
       "    <tr>\n",
       "      <th>0</th>\n",
       "      <td>0z64un</td>\n",
       "      <td>-0.195195</td>\n",
       "      <td>0</td>\n",
       "      <td>1.118269</td>\n",
       "      <td>-0.903200</td>\n",
       "      <td>-1.053964</td>\n",
       "      <td>0.932485</td>\n",
       "      <td>0</td>\n",
       "      <td>0</td>\n",
       "      <td>0</td>\n",
       "      <td>...</td>\n",
       "      <td>0</td>\n",
       "      <td>0</td>\n",
       "      <td>1</td>\n",
       "      <td>0</td>\n",
       "      <td>0</td>\n",
       "      <td>0</td>\n",
       "      <td>1</td>\n",
       "      <td>1</td>\n",
       "      <td>1</td>\n",
       "      <td>0</td>\n",
       "    </tr>\n",
       "    <tr>\n",
       "      <th>1</th>\n",
       "      <td>ryoo3j</td>\n",
       "      <td>-1.256320</td>\n",
       "      <td>0</td>\n",
       "      <td>-0.669778</td>\n",
       "      <td>0.527267</td>\n",
       "      <td>-0.087134</td>\n",
       "      <td>0.387084</td>\n",
       "      <td>0</td>\n",
       "      <td>1</td>\n",
       "      <td>0</td>\n",
       "      <td>...</td>\n",
       "      <td>0</td>\n",
       "      <td>0</td>\n",
       "      <td>0</td>\n",
       "      <td>1</td>\n",
       "      <td>0</td>\n",
       "      <td>0</td>\n",
       "      <td>0</td>\n",
       "      <td>0</td>\n",
       "      <td>1</td>\n",
       "      <td>0</td>\n",
       "    </tr>\n",
       "    <tr>\n",
       "      <th>2</th>\n",
       "      <td>yt1s1x</td>\n",
       "      <td>-0.372049</td>\n",
       "      <td>0</td>\n",
       "      <td>1.042182</td>\n",
       "      <td>-0.903200</td>\n",
       "      <td>2.383654</td>\n",
       "      <td>0.568884</td>\n",
       "      <td>1</td>\n",
       "      <td>0</td>\n",
       "      <td>0</td>\n",
       "      <td>...</td>\n",
       "      <td>0</td>\n",
       "      <td>1</td>\n",
       "      <td>0</td>\n",
       "      <td>0</td>\n",
       "      <td>1</td>\n",
       "      <td>0</td>\n",
       "      <td>1</td>\n",
       "      <td>1</td>\n",
       "      <td>1</td>\n",
       "      <td>0</td>\n",
       "    </tr>\n",
       "    <tr>\n",
       "      <th>3</th>\n",
       "      <td>l2xjde</td>\n",
       "      <td>1.219639</td>\n",
       "      <td>0</td>\n",
       "      <td>-0.498582</td>\n",
       "      <td>-0.903200</td>\n",
       "      <td>-1.591092</td>\n",
       "      <td>1.432436</td>\n",
       "      <td>0</td>\n",
       "      <td>0</td>\n",
       "      <td>0</td>\n",
       "      <td>...</td>\n",
       "      <td>0</td>\n",
       "      <td>0</td>\n",
       "      <td>0</td>\n",
       "      <td>0</td>\n",
       "      <td>1</td>\n",
       "      <td>0</td>\n",
       "      <td>0</td>\n",
       "      <td>1</td>\n",
       "      <td>0</td>\n",
       "      <td>1</td>\n",
       "    </tr>\n",
       "    <tr>\n",
       "      <th>4</th>\n",
       "      <td>oyt4ek</td>\n",
       "      <td>2.752375</td>\n",
       "      <td>0</td>\n",
       "      <td>0.395442</td>\n",
       "      <td>2.851995</td>\n",
       "      <td>0.449994</td>\n",
       "      <td>-0.203768</td>\n",
       "      <td>0</td>\n",
       "      <td>0</td>\n",
       "      <td>1</td>\n",
       "      <td>...</td>\n",
       "      <td>0</td>\n",
       "      <td>0</td>\n",
       "      <td>0</td>\n",
       "      <td>0</td>\n",
       "      <td>0</td>\n",
       "      <td>0</td>\n",
       "      <td>1</td>\n",
       "      <td>1</td>\n",
       "      <td>0</td>\n",
       "      <td>1</td>\n",
       "    </tr>\n",
       "  </tbody>\n",
       "</table>\n",
       "<p>5 rows × 21 columns</p>\n",
       "</div>"
      ],
      "text/plain": [
       "  patient_id  resting_blood_pressure  fasting_blood_sugar_gt_120_mg_per_dl  \\\n",
       "0     0z64un               -0.195195                                     0   \n",
       "1     ryoo3j               -1.256320                                     0   \n",
       "2     yt1s1x               -0.372049                                     0   \n",
       "3     l2xjde                1.219639                                     0   \n",
       "4     oyt4ek                2.752375                                     0   \n",
       "\n",
       "   serum_cholesterol_mg_per_dl  oldpeak_eq_st_depression       age  \\\n",
       "0                     1.118269                 -0.903200 -1.053964   \n",
       "1                    -0.669778                  0.527267 -0.087134   \n",
       "2                     1.042182                 -0.903200  2.383654   \n",
       "3                    -0.498582                 -0.903200 -1.591092   \n",
       "4                     0.395442                  2.851995  0.449994   \n",
       "\n",
       "   max_heart_rate_achieved  exercise_induced_angina  \\\n",
       "0                 0.932485                        0   \n",
       "1                 0.387084                        0   \n",
       "2                 0.568884                        1   \n",
       "3                 1.432436                        0   \n",
       "4                -0.203768                        0   \n",
       "\n",
       "   slope_of_peak_exercise_st_segment_2  slope_of_peak_exercise_st_segment_3  \\\n",
       "0                                    0                                    0   \n",
       "1                                    1                                    0   \n",
       "2                                    0                                    0   \n",
       "3                                    0                                    0   \n",
       "4                                    0                                    1   \n",
       "\n",
       "    ...    num_major_vessels_2  num_major_vessels_3  chest_pain_type_2  \\\n",
       "0   ...                      0                    0                  1   \n",
       "1   ...                      0                    0                  0   \n",
       "2   ...                      0                    1                  0   \n",
       "3   ...                      0                    0                  0   \n",
       "4   ...                      0                    0                  0   \n",
       "\n",
       "   chest_pain_type_3  chest_pain_type_4  resting_ekg_results_1  \\\n",
       "0                  0                  0                      0   \n",
       "1                  1                  0                      0   \n",
       "2                  0                  1                      0   \n",
       "3                  0                  1                      0   \n",
       "4                  0                  0                      0   \n",
       "\n",
       "   resting_ekg_results_2  sex_1  thal_1  thal_2  \n",
       "0                      1      1       1       0  \n",
       "1                      0      0       1       0  \n",
       "2                      1      1       1       0  \n",
       "3                      0      1       0       1  \n",
       "4                      1      1       0       1  \n",
       "\n",
       "[5 rows x 21 columns]"
      ]
     },
     "execution_count": 83,
     "metadata": {},
     "output_type": "execute_result"
    }
   ],
   "source": [
    "df_x.head()"
   ]
  },
  {
   "cell_type": "code",
   "execution_count": 84,
   "metadata": {},
   "outputs": [
    {
     "data": {
      "text/html": [
       "<div>\n",
       "<style scoped>\n",
       "    .dataframe tbody tr th:only-of-type {\n",
       "        vertical-align: middle;\n",
       "    }\n",
       "\n",
       "    .dataframe tbody tr th {\n",
       "        vertical-align: top;\n",
       "    }\n",
       "\n",
       "    .dataframe thead th {\n",
       "        text-align: right;\n",
       "    }\n",
       "</style>\n",
       "<table border=\"1\" class=\"dataframe\">\n",
       "  <thead>\n",
       "    <tr style=\"text-align: right;\">\n",
       "      <th></th>\n",
       "      <th>patient_id</th>\n",
       "      <th>resting_blood_pressure</th>\n",
       "      <th>fasting_blood_sugar_gt_120_mg_per_dl</th>\n",
       "      <th>serum_cholesterol_mg_per_dl</th>\n",
       "      <th>oldpeak_eq_st_depression</th>\n",
       "      <th>age</th>\n",
       "      <th>max_heart_rate_achieved</th>\n",
       "      <th>exercise_induced_angina</th>\n",
       "      <th>slope_of_peak_exercise_st_segment_2</th>\n",
       "      <th>slope_of_peak_exercise_st_segment_3</th>\n",
       "      <th>...</th>\n",
       "      <th>num_major_vessels_2</th>\n",
       "      <th>num_major_vessels_3</th>\n",
       "      <th>chest_pain_type_2</th>\n",
       "      <th>chest_pain_type_3</th>\n",
       "      <th>chest_pain_type_4</th>\n",
       "      <th>resting_ekg_results_1</th>\n",
       "      <th>resting_ekg_results_2</th>\n",
       "      <th>sex_1</th>\n",
       "      <th>thal_1</th>\n",
       "      <th>thal_2</th>\n",
       "    </tr>\n",
       "  </thead>\n",
       "  <tbody>\n",
       "    <tr>\n",
       "      <th>0</th>\n",
       "      <td>olalu7</td>\n",
       "      <td>2.280764</td>\n",
       "      <td>0</td>\n",
       "      <td>0.737834</td>\n",
       "      <td>-0.724392</td>\n",
       "      <td>0.449994</td>\n",
       "      <td>0.432534</td>\n",
       "      <td>0</td>\n",
       "      <td>1</td>\n",
       "      <td>0</td>\n",
       "      <td>...</td>\n",
       "      <td>0</td>\n",
       "      <td>0</td>\n",
       "      <td>0</td>\n",
       "      <td>0</td>\n",
       "      <td>0</td>\n",
       "      <td>0</td>\n",
       "      <td>1</td>\n",
       "      <td>1</td>\n",
       "      <td>0</td>\n",
       "      <td>1</td>\n",
       "    </tr>\n",
       "    <tr>\n",
       "      <th>1</th>\n",
       "      <td>z9n6mx</td>\n",
       "      <td>0.394319</td>\n",
       "      <td>0</td>\n",
       "      <td>-1.259453</td>\n",
       "      <td>0.349114</td>\n",
       "      <td>-2.128220</td>\n",
       "      <td>1.477887</td>\n",
       "      <td>0</td>\n",
       "      <td>0</td>\n",
       "      <td>0</td>\n",
       "      <td>...</td>\n",
       "      <td>0</td>\n",
       "      <td>0</td>\n",
       "      <td>0</td>\n",
       "      <td>0</td>\n",
       "      <td>1</td>\n",
       "      <td>0</td>\n",
       "      <td>0</td>\n",
       "      <td>0</td>\n",
       "      <td>1</td>\n",
       "      <td>0</td>\n",
       "    </tr>\n",
       "    <tr>\n",
       "      <th>2</th>\n",
       "      <td>5k4413</td>\n",
       "      <td>-0.666806</td>\n",
       "      <td>0</td>\n",
       "      <td>-1.373584</td>\n",
       "      <td>1.332451</td>\n",
       "      <td>-1.268815</td>\n",
       "      <td>-1.340021</td>\n",
       "      <td>1</td>\n",
       "      <td>1</td>\n",
       "      <td>0</td>\n",
       "      <td>...</td>\n",
       "      <td>0</td>\n",
       "      <td>0</td>\n",
       "      <td>0</td>\n",
       "      <td>0</td>\n",
       "      <td>1</td>\n",
       "      <td>0</td>\n",
       "      <td>1</td>\n",
       "      <td>1</td>\n",
       "      <td>0</td>\n",
       "      <td>1</td>\n",
       "    </tr>\n",
       "    <tr>\n",
       "      <th>3</th>\n",
       "      <td>mrg7q5</td>\n",
       "      <td>-1.727931</td>\n",
       "      <td>0</td>\n",
       "      <td>1.308487</td>\n",
       "      <td>-0.903200</td>\n",
       "      <td>0.557419</td>\n",
       "      <td>0.477984</td>\n",
       "      <td>0</td>\n",
       "      <td>0</td>\n",
       "      <td>0</td>\n",
       "      <td>...</td>\n",
       "      <td>0</td>\n",
       "      <td>0</td>\n",
       "      <td>0</td>\n",
       "      <td>1</td>\n",
       "      <td>0</td>\n",
       "      <td>0</td>\n",
       "      <td>0</td>\n",
       "      <td>0</td>\n",
       "      <td>1</td>\n",
       "      <td>0</td>\n",
       "    </tr>\n",
       "    <tr>\n",
       "      <th>4</th>\n",
       "      <td>uki4do</td>\n",
       "      <td>0.394319</td>\n",
       "      <td>0</td>\n",
       "      <td>-1.582823</td>\n",
       "      <td>2.315788</td>\n",
       "      <td>0.664845</td>\n",
       "      <td>-1.112771</td>\n",
       "      <td>1</td>\n",
       "      <td>1</td>\n",
       "      <td>0</td>\n",
       "      <td>...</td>\n",
       "      <td>0</td>\n",
       "      <td>0</td>\n",
       "      <td>0</td>\n",
       "      <td>0</td>\n",
       "      <td>1</td>\n",
       "      <td>0</td>\n",
       "      <td>1</td>\n",
       "      <td>1</td>\n",
       "      <td>1</td>\n",
       "      <td>0</td>\n",
       "    </tr>\n",
       "  </tbody>\n",
       "</table>\n",
       "<p>5 rows × 21 columns</p>\n",
       "</div>"
      ],
      "text/plain": [
       "  patient_id  resting_blood_pressure  fasting_blood_sugar_gt_120_mg_per_dl  \\\n",
       "0     olalu7                2.280764                                     0   \n",
       "1     z9n6mx                0.394319                                     0   \n",
       "2     5k4413               -0.666806                                     0   \n",
       "3     mrg7q5               -1.727931                                     0   \n",
       "4     uki4do                0.394319                                     0   \n",
       "\n",
       "   serum_cholesterol_mg_per_dl  oldpeak_eq_st_depression       age  \\\n",
       "0                     0.737834                 -0.724392  0.449994   \n",
       "1                    -1.259453                  0.349114 -2.128220   \n",
       "2                    -1.373584                  1.332451 -1.268815   \n",
       "3                     1.308487                 -0.903200  0.557419   \n",
       "4                    -1.582823                  2.315788  0.664845   \n",
       "\n",
       "   max_heart_rate_achieved  exercise_induced_angina  \\\n",
       "0                 0.432534                        0   \n",
       "1                 1.477887                        0   \n",
       "2                -1.340021                        1   \n",
       "3                 0.477984                        0   \n",
       "4                -1.112771                        1   \n",
       "\n",
       "   slope_of_peak_exercise_st_segment_2  slope_of_peak_exercise_st_segment_3  \\\n",
       "0                                    1                                    0   \n",
       "1                                    0                                    0   \n",
       "2                                    1                                    0   \n",
       "3                                    0                                    0   \n",
       "4                                    1                                    0   \n",
       "\n",
       "    ...    num_major_vessels_2  num_major_vessels_3  chest_pain_type_2  \\\n",
       "0   ...                      0                    0                  0   \n",
       "1   ...                      0                    0                  0   \n",
       "2   ...                      0                    0                  0   \n",
       "3   ...                      0                    0                  0   \n",
       "4   ...                      0                    0                  0   \n",
       "\n",
       "   chest_pain_type_3  chest_pain_type_4  resting_ekg_results_1  \\\n",
       "0                  0                  0                      0   \n",
       "1                  0                  1                      0   \n",
       "2                  0                  1                      0   \n",
       "3                  1                  0                      0   \n",
       "4                  0                  1                      0   \n",
       "\n",
       "   resting_ekg_results_2  sex_1  thal_1  thal_2  \n",
       "0                      1      1       0       1  \n",
       "1                      0      0       1       0  \n",
       "2                      1      1       0       1  \n",
       "3                      0      0       1       0  \n",
       "4                      1      1       1       0  \n",
       "\n",
       "[5 rows x 21 columns]"
      ]
     },
     "execution_count": 84,
     "metadata": {},
     "output_type": "execute_result"
    }
   ],
   "source": [
    "df_x_test.head()"
   ]
  },
  {
   "cell_type": "markdown",
   "metadata": {},
   "source": [
    "# Train models\n"
   ]
  },
  {
   "cell_type": "markdown",
   "metadata": {},
   "source": [
    "## Logistic Regression"
   ]
  },
  {
   "cell_type": "code",
   "execution_count": 94,
   "metadata": {},
   "outputs": [],
   "source": [
    "log_reg = LogisticRegression(random_state=0, solver='liblinear')\n"
   ]
  },
  {
   "cell_type": "code",
   "execution_count": 85,
   "metadata": {},
   "outputs": [],
   "source": [
    "X = df_x.drop('patient_id', axis=1).values\n",
    "y = df_y.drop('patient_id', axis=1).values.ravel()"
   ]
  },
  {
   "cell_type": "code",
   "execution_count": 103,
   "metadata": {},
   "outputs": [
    {
     "data": {
      "text/plain": [
       "LogisticRegression(C=1.0, class_weight=None, dual=False, fit_intercept=True,\n",
       "          intercept_scaling=1, max_iter=100, multi_class='warn',\n",
       "          n_jobs=None, penalty='l2', random_state=0, solver='liblinear',\n",
       "          tol=0.0001, verbose=0, warm_start=False)"
      ]
     },
     "execution_count": 103,
     "metadata": {},
     "output_type": "execute_result"
    }
   ],
   "source": [
    "log_reg.fit(X, y)"
   ]
  },
  {
   "cell_type": "code",
   "execution_count": 104,
   "metadata": {},
   "outputs": [
    {
     "data": {
      "text/plain": [
       "0.8666666666666667"
      ]
     },
     "execution_count": 104,
     "metadata": {},
     "output_type": "execute_result"
    }
   ],
   "source": [
    "log_reg.score(X, y)"
   ]
  },
  {
   "cell_type": "markdown",
   "metadata": {},
   "source": [
    "## Random Forest"
   ]
  },
  {
   "cell_type": "code",
   "execution_count": 105,
   "metadata": {},
   "outputs": [],
   "source": [
    "rf = RandomForestClassifier(n_estimators=100, max_depth=2, random_state=0)"
   ]
  },
  {
   "cell_type": "code",
   "execution_count": 106,
   "metadata": {},
   "outputs": [
    {
     "data": {
      "text/plain": [
       "RandomForestClassifier(bootstrap=True, class_weight=None, criterion='gini',\n",
       "            max_depth=2, max_features='auto', max_leaf_nodes=None,\n",
       "            min_impurity_decrease=0.0, min_impurity_split=None,\n",
       "            min_samples_leaf=1, min_samples_split=2,\n",
       "            min_weight_fraction_leaf=0.0, n_estimators=100, n_jobs=None,\n",
       "            oob_score=False, random_state=0, verbose=0, warm_start=False)"
      ]
     },
     "execution_count": 106,
     "metadata": {},
     "output_type": "execute_result"
    }
   ],
   "source": [
    "rf.fit(X, y)"
   ]
  },
  {
   "cell_type": "code",
   "execution_count": 107,
   "metadata": {},
   "outputs": [
    {
     "data": {
      "text/plain": [
       "0.8388888888888889"
      ]
     },
     "execution_count": 107,
     "metadata": {},
     "output_type": "execute_result"
    }
   ],
   "source": [
    "rf.score(X, y)"
   ]
  },
  {
   "cell_type": "markdown",
   "metadata": {},
   "source": [
    "# Naive Bayes"
   ]
  },
  {
   "cell_type": "code",
   "execution_count": 108,
   "metadata": {},
   "outputs": [],
   "source": [
    "gnb = GaussianNB()"
   ]
  },
  {
   "cell_type": "code",
   "execution_count": 109,
   "metadata": {},
   "outputs": [
    {
     "data": {
      "text/plain": [
       "GaussianNB(priors=None, var_smoothing=1e-09)"
      ]
     },
     "execution_count": 109,
     "metadata": {},
     "output_type": "execute_result"
    }
   ],
   "source": [
    "gnb.fit(X, y)"
   ]
  },
  {
   "cell_type": "code",
   "execution_count": 110,
   "metadata": {},
   "outputs": [
    {
     "data": {
      "text/plain": [
       "0.7833333333333333"
      ]
     },
     "execution_count": 110,
     "metadata": {},
     "output_type": "execute_result"
    }
   ],
   "source": [
    "gnb.score(X, y)"
   ]
  },
  {
   "cell_type": "code",
   "execution_count": 96,
   "metadata": {},
   "outputs": [],
   "source": [
    "rs = 10\n",
    "names = [\"QDA\", \"AdaBoost\", \"RF\", \"Gaussian Process\", \"Logistic Regression\", \"NB\", \"Nearest Neighbors\", \"MLP\",\n",
    "         \"Linear SVM\", \"RBF SVM\", \"Decision Tree\"]\n",
    "classifiers = [\n",
    "    QuadraticDiscriminantAnalysis(),\n",
    "    AdaBoostClassifier(random_state=rs),\n",
    "    RandomForestClassifier(max_depth=5, n_estimators=10, random_state=rs),\n",
    "    GaussianProcessClassifier(random_state=rs, kernel=RBF(1.0)),\n",
    "    LogisticRegression(random_state=rs, solver='liblinear'),\n",
    "    GaussianNB(),\n",
    "    KNeighborsClassifier(3),\n",
    "    MLPClassifier(alpha=1, random_state=rs),\n",
    "    SVC(kernel='linear', C=0.025, random_state=rs, probability=True),\n",
    "    SVC(gamma=2, C=1, random_state=rs, probability=True),\n",
    "    DecisionTreeClassifier(max_depth=5, random_state=rs)\n",
    "]"
   ]
  },
  {
   "cell_type": "code",
   "execution_count": 97,
   "metadata": {},
   "outputs": [],
   "source": [
    "kfold = StratifiedKFold(n_splits=10, random_state=rs).split(X, y)"
   ]
  },
  {
   "cell_type": "code",
   "execution_count": 98,
   "metadata": {},
   "outputs": [],
   "source": [
    "scores = {}\n",
    "for name in names:\n",
    "    scores[name] = []"
   ]
  },
  {
   "cell_type": "code",
   "execution_count": 99,
   "metadata": {},
   "outputs": [
    {
     "name": "stdout",
     "output_type": "stream",
     "text": [
      "Length of train: 162\n",
      "Length of test: 18\n"
     ]
    },
    {
     "name": "stderr",
     "output_type": "stream",
     "text": [
      "/home/alexb/miniconda3/envs/ds/lib/python3.6/site-packages/sklearn/discriminant_analysis.py:686: UserWarning: Variables are collinear\n",
      "  warnings.warn(\"Variables are collinear\")\n",
      "/home/alexb/miniconda3/envs/ds/lib/python3.6/site-packages/sklearn/neural_network/multilayer_perceptron.py:562: ConvergenceWarning: Stochastic Optimizer: Maximum iterations (200) reached and the optimization hasn't converged yet.\n",
      "  % self.max_iter, ConvergenceWarning)\n",
      "/home/alexb/miniconda3/envs/ds/lib/python3.6/site-packages/sklearn/discriminant_analysis.py:686: UserWarning: Variables are collinear\n",
      "  warnings.warn(\"Variables are collinear\")\n"
     ]
    },
    {
     "name": "stdout",
     "output_type": "stream",
     "text": [
      "Length of train: 162\n",
      "Length of test: 18\n"
     ]
    },
    {
     "name": "stderr",
     "output_type": "stream",
     "text": [
      "/home/alexb/miniconda3/envs/ds/lib/python3.6/site-packages/sklearn/neural_network/multilayer_perceptron.py:562: ConvergenceWarning: Stochastic Optimizer: Maximum iterations (200) reached and the optimization hasn't converged yet.\n",
      "  % self.max_iter, ConvergenceWarning)\n",
      "/home/alexb/miniconda3/envs/ds/lib/python3.6/site-packages/sklearn/discriminant_analysis.py:686: UserWarning: Variables are collinear\n",
      "  warnings.warn(\"Variables are collinear\")\n"
     ]
    },
    {
     "name": "stdout",
     "output_type": "stream",
     "text": [
      "Length of train: 162\n",
      "Length of test: 18\n"
     ]
    },
    {
     "name": "stderr",
     "output_type": "stream",
     "text": [
      "/home/alexb/miniconda3/envs/ds/lib/python3.6/site-packages/sklearn/neural_network/multilayer_perceptron.py:562: ConvergenceWarning: Stochastic Optimizer: Maximum iterations (200) reached and the optimization hasn't converged yet.\n",
      "  % self.max_iter, ConvergenceWarning)\n",
      "/home/alexb/miniconda3/envs/ds/lib/python3.6/site-packages/sklearn/discriminant_analysis.py:686: UserWarning: Variables are collinear\n",
      "  warnings.warn(\"Variables are collinear\")\n"
     ]
    },
    {
     "name": "stdout",
     "output_type": "stream",
     "text": [
      "Length of train: 162\n",
      "Length of test: 18\n"
     ]
    },
    {
     "name": "stderr",
     "output_type": "stream",
     "text": [
      "/home/alexb/miniconda3/envs/ds/lib/python3.6/site-packages/sklearn/neural_network/multilayer_perceptron.py:562: ConvergenceWarning: Stochastic Optimizer: Maximum iterations (200) reached and the optimization hasn't converged yet.\n",
      "  % self.max_iter, ConvergenceWarning)\n",
      "/home/alexb/miniconda3/envs/ds/lib/python3.6/site-packages/sklearn/discriminant_analysis.py:686: UserWarning: Variables are collinear\n",
      "  warnings.warn(\"Variables are collinear\")\n"
     ]
    },
    {
     "name": "stdout",
     "output_type": "stream",
     "text": [
      "Length of train: 162\n",
      "Length of test: 18\n"
     ]
    },
    {
     "name": "stderr",
     "output_type": "stream",
     "text": [
      "/home/alexb/miniconda3/envs/ds/lib/python3.6/site-packages/sklearn/neural_network/multilayer_perceptron.py:562: ConvergenceWarning: Stochastic Optimizer: Maximum iterations (200) reached and the optimization hasn't converged yet.\n",
      "  % self.max_iter, ConvergenceWarning)\n",
      "/home/alexb/miniconda3/envs/ds/lib/python3.6/site-packages/sklearn/discriminant_analysis.py:686: UserWarning: Variables are collinear\n",
      "  warnings.warn(\"Variables are collinear\")\n"
     ]
    },
    {
     "name": "stdout",
     "output_type": "stream",
     "text": [
      "Length of train: 162\n",
      "Length of test: 18\n"
     ]
    },
    {
     "name": "stderr",
     "output_type": "stream",
     "text": [
      "/home/alexb/miniconda3/envs/ds/lib/python3.6/site-packages/sklearn/neural_network/multilayer_perceptron.py:562: ConvergenceWarning: Stochastic Optimizer: Maximum iterations (200) reached and the optimization hasn't converged yet.\n",
      "  % self.max_iter, ConvergenceWarning)\n",
      "/home/alexb/miniconda3/envs/ds/lib/python3.6/site-packages/sklearn/discriminant_analysis.py:686: UserWarning: Variables are collinear\n",
      "  warnings.warn(\"Variables are collinear\")\n"
     ]
    },
    {
     "name": "stdout",
     "output_type": "stream",
     "text": [
      "Length of train: 162\n",
      "Length of test: 18\n"
     ]
    },
    {
     "name": "stderr",
     "output_type": "stream",
     "text": [
      "/home/alexb/miniconda3/envs/ds/lib/python3.6/site-packages/sklearn/neural_network/multilayer_perceptron.py:562: ConvergenceWarning: Stochastic Optimizer: Maximum iterations (200) reached and the optimization hasn't converged yet.\n",
      "  % self.max_iter, ConvergenceWarning)\n",
      "/home/alexb/miniconda3/envs/ds/lib/python3.6/site-packages/sklearn/discriminant_analysis.py:686: UserWarning: Variables are collinear\n",
      "  warnings.warn(\"Variables are collinear\")\n"
     ]
    },
    {
     "name": "stdout",
     "output_type": "stream",
     "text": [
      "Length of train: 162\n",
      "Length of test: 18\n"
     ]
    },
    {
     "name": "stderr",
     "output_type": "stream",
     "text": [
      "/home/alexb/miniconda3/envs/ds/lib/python3.6/site-packages/sklearn/neural_network/multilayer_perceptron.py:562: ConvergenceWarning: Stochastic Optimizer: Maximum iterations (200) reached and the optimization hasn't converged yet.\n",
      "  % self.max_iter, ConvergenceWarning)\n",
      "/home/alexb/miniconda3/envs/ds/lib/python3.6/site-packages/sklearn/discriminant_analysis.py:686: UserWarning: Variables are collinear\n",
      "  warnings.warn(\"Variables are collinear\")\n"
     ]
    },
    {
     "name": "stdout",
     "output_type": "stream",
     "text": [
      "Length of train: 162\n",
      "Length of test: 18\n"
     ]
    },
    {
     "name": "stderr",
     "output_type": "stream",
     "text": [
      "/home/alexb/miniconda3/envs/ds/lib/python3.6/site-packages/sklearn/neural_network/multilayer_perceptron.py:562: ConvergenceWarning: Stochastic Optimizer: Maximum iterations (200) reached and the optimization hasn't converged yet.\n",
      "  % self.max_iter, ConvergenceWarning)\n",
      "/home/alexb/miniconda3/envs/ds/lib/python3.6/site-packages/sklearn/discriminant_analysis.py:686: UserWarning: Variables are collinear\n",
      "  warnings.warn(\"Variables are collinear\")\n",
      "/home/alexb/miniconda3/envs/ds/lib/python3.6/site-packages/sklearn/discriminant_analysis.py:686: UserWarning: Variables are collinear\n",
      "  warnings.warn(\"Variables are collinear\")\n"
     ]
    },
    {
     "name": "stdout",
     "output_type": "stream",
     "text": [
      "Length of train: 162\n",
      "Length of test: 18\n",
      "====================\n",
      "Average score\n",
      "QDA: 0.5833333333333334\n",
      "AdaBoost: 0.7499999999999999\n",
      "RF: 0.7888888888888889\n",
      "Gaussian Process: 0.8277777777777777\n",
      "Logistic Regression: 0.8\n",
      "NB: 0.7555555555555556\n",
      "Nearest Neighbors: 0.8\n",
      "MLP: 0.8055555555555556\n",
      "Linear SVM: 0.8333333333333333\n",
      "RBF SVM: 0.5555555555555555\n",
      "Decision Tree: 0.7222222222222221\n"
     ]
    },
    {
     "name": "stderr",
     "output_type": "stream",
     "text": [
      "/home/alexb/miniconda3/envs/ds/lib/python3.6/site-packages/sklearn/neural_network/multilayer_perceptron.py:562: ConvergenceWarning: Stochastic Optimizer: Maximum iterations (200) reached and the optimization hasn't converged yet.\n",
      "  % self.max_iter, ConvergenceWarning)\n"
     ]
    }
   ],
   "source": [
    "for k, (train, test) in enumerate(kfold):\n",
    "    print('Length of train: {}'.format(len(train)))\n",
    "    print('Length of test: {}'.format(len(test)))\n",
    "    for name, clf in zip(names, classifiers):\n",
    "        clf.fit(X[train], y[train])\n",
    "        score = clf.score(X[test], y[test])\n",
    "        scores[name].append(score)\n",
    "\n",
    "        \n",
    "print('='*20)\n",
    "print('Average score')\n",
    "for name in names:\n",
    "    print(name + ': {}'.format(sum(scores[name])/len(scores[name])))"
   ]
  },
  {
   "cell_type": "code",
   "execution_count": 100,
   "metadata": {},
   "outputs": [],
   "source": [
    "# With linear SVM having the highest score, let's train on all the data using that model\n",
    "lin_svm = SVC(kernel='linear', C=0.025, random_state=rs, probability=True)\n",
    "lin_svm.fit(X, y)\n",
    "X_test = df_x_test.drop('patient_id', axis=1).values\n",
    "y_pred = lin_svm.predict_proba(X_test)"
   ]
  },
  {
   "cell_type": "code",
   "execution_count": 104,
   "metadata": {},
   "outputs": [
    {
     "data": {
      "text/plain": [
       "array([0, 1])"
      ]
     },
     "execution_count": 104,
     "metadata": {},
     "output_type": "execute_result"
    }
   ],
   "source": [
    "lin_svm.classes_"
   ]
  },
  {
   "cell_type": "code",
   "execution_count": 106,
   "metadata": {},
   "outputs": [
    {
     "data": {
      "text/plain": [
       "array([0.57870992, 0.11232051, 0.94155549, 0.05582626, 0.88239374,\n",
       "       0.05618466, 0.3010724 , 0.76353629, 0.15091929, 0.08337639,\n",
       "       0.16364025, 0.46432286, 0.2189881 , 0.95455555, 0.11634225,\n",
       "       0.05218495, 0.0196208 , 0.09182306, 0.68895965, 0.05389297,\n",
       "       0.96556769, 0.28492663, 0.12400337, 0.07161804, 0.42149319,\n",
       "       0.92132273, 0.17393008, 0.13082716, 0.51416087, 0.04332829,\n",
       "       0.94189655, 0.55821172, 0.5       , 0.45296222, 0.15935082,\n",
       "       0.1066624 , 0.37966751, 0.27536966, 0.23178891, 0.07361597,\n",
       "       0.93735342, 0.15137043, 0.93450919, 0.05978641, 0.89462   ,\n",
       "       0.1068575 , 0.12050823, 0.25932882, 0.28560859, 0.5528476 ,\n",
       "       0.72764799, 0.06681485, 0.96705673, 0.13541016, 0.31926133,\n",
       "       0.07356099, 0.93646383, 0.10006997, 0.10839874, 0.79090138,\n",
       "       0.08096919, 0.94506351, 0.12330714, 0.92286347, 0.10988302,\n",
       "       0.74911329, 0.67646978, 0.53020636, 0.83693379, 0.64516353,\n",
       "       0.19845651, 0.97543002, 0.96653191, 0.96527857, 0.91880655,\n",
       "       0.95703165, 0.92393348, 0.64909614, 0.18339112, 0.58071498,\n",
       "       0.66013065, 0.03924009, 0.72193278, 0.64516516, 0.42121506,\n",
       "       0.04106691, 0.87730849, 0.16480229, 0.32175104, 0.2682353 ])"
      ]
     },
     "execution_count": 106,
     "metadata": {},
     "output_type": "execute_result"
    }
   ],
   "source": [
    "y_pred[:,1]"
   ]
  },
  {
   "cell_type": "code",
   "execution_count": 108,
   "metadata": {},
   "outputs": [],
   "source": [
    "df_submit = pd.DataFrame(data=df_x_test['patient_id'], columns=['patient_id'])"
   ]
  },
  {
   "cell_type": "code",
   "execution_count": 110,
   "metadata": {},
   "outputs": [],
   "source": [
    "df_submit['heart_disease_present'] = y_pred[:,1]"
   ]
  },
  {
   "cell_type": "code",
   "execution_count": 114,
   "metadata": {},
   "outputs": [],
   "source": [
    "df_submit.to_csv('../models/sub_01.csv', index=False)"
   ]
  },
  {
   "cell_type": "markdown",
   "metadata": {},
   "source": [
    "# First submission results"
   ]
  },
  {
   "cell_type": "markdown",
   "metadata": {},
   "source": [
    "I trained a linear SVM with C=0.025 where the processed data were scaled using the standard scaler except for the dummy variable features.\n",
    "\n",
    "The log loss result was 0.33193. At the time of submission, this placed me at 29/579, including DrivenData's benchmark logistic regression.\n",
    "\n",
    "With just some basic preprocessing and no model optimization, I managed to get to about the top 5%."
   ]
  },
  {
   "cell_type": "markdown",
   "metadata": {},
   "source": [
    "# Model Optimzation"
   ]
  },
  {
   "cell_type": "markdown",
   "metadata": {},
   "source": [
    "To optimize the models, I'll use GridSearch as implemented by scikit-learn."
   ]
  },
  {
   "cell_type": "code",
   "execution_count": 120,
   "metadata": {},
   "outputs": [],
   "source": [
    "# Linear SVM\n",
    "# Paremeters to adjust: C\n",
    "param_range = [0.0001, 0.001, 0.01, 0.1, 1.0, 10.0, 100.0, 1000.0]\n",
    "param_grid = [{'C': param_range, 'kernel': ['linear'], 'random_state': [0]}]"
   ]
  },
  {
   "cell_type": "code",
   "execution_count": 121,
   "metadata": {},
   "outputs": [
    {
     "name": "stdout",
     "output_type": "stream",
     "text": [
      "0.8444444444444444\n",
      "{'C': 100.0, 'kernel': 'linear', 'random_state': 0}\n"
     ]
    }
   ],
   "source": [
    "gs = GridSearchCV(estimator=lin_svm, param_grid=param_grid, scoring='accuracy', cv=10, n_jobs=2)\n",
    "gs = gs.fit(X, y)\n",
    "print(gs.best_score_)\n",
    "print(gs.best_params_)"
   ]
  },
  {
   "cell_type": "code",
   "execution_count": 122,
   "metadata": {},
   "outputs": [],
   "source": [
    "# I originally used C=0.025 but with this sampling above, it found C=100 to be better suited.\n",
    "# I'll try another gridsearch with a more focused parameter range\n",
    "param_range = [50.0, 60.0, 70.0, 80.0, 90.0, 100.0, 110.0, 120.0, 130.0, 140.0, 150.0]\n",
    "param_grid = [{'C': param_range, 'kernel': ['linear'], 'random_state': [0]}]"
   ]
  },
  {
   "cell_type": "code",
   "execution_count": 123,
   "metadata": {},
   "outputs": [
    {
     "name": "stdout",
     "output_type": "stream",
     "text": [
      "0.85\n",
      "{'C': 50.0, 'kernel': 'linear', 'random_state': 0}\n"
     ]
    }
   ],
   "source": [
    "gs = GridSearchCV(estimator=lin_svm, param_grid=param_grid, scoring='accuracy', cv=10, n_jobs=2)\n",
    "gs = gs.fit(X, y)\n",
    "print(gs.best_score_)\n",
    "print(gs.best_params_)"
   ]
  },
  {
   "cell_type": "code",
   "execution_count": 126,
   "metadata": {},
   "outputs": [],
   "source": [
    "# I originally used C=0.025 but with this sampling above, it found C=50 to be better suited.\n",
    "# I'll try another gridsearch with a more focused parameter range\n",
    "param_range = [10.0, 20.0, 30.0, 40.0, 50.0, 60.0, 70.0]\n",
    "param_grid = [{'C': param_range, 'kernel': ['linear'], 'random_state': [0]}]"
   ]
  },
  {
   "cell_type": "code",
   "execution_count": 127,
   "metadata": {},
   "outputs": [
    {
     "name": "stdout",
     "output_type": "stream",
     "text": [
      "0.85\n",
      "{'C': 30.0, 'kernel': 'linear', 'random_state': 0}\n"
     ]
    }
   ],
   "source": [
    "gs = GridSearchCV(estimator=lin_svm, param_grid=param_grid, scoring='accuracy', cv=10, n_jobs=2)\n",
    "gs = gs.fit(X, y)\n",
    "print(gs.best_score_)\n",
    "print(gs.best_params_)"
   ]
  },
  {
   "cell_type": "code",
   "execution_count": 128,
   "metadata": {},
   "outputs": [],
   "source": [
    "# I originally used C=0.025 but with this sampling above, it found C=50 to be better suited.\n",
    "# I'll try another gridsearch with a more focused parameter range\n",
    "param_range = [20.0, 22.0, 24.0, 26.0, 28.0, 30.0, 32.0, 34.0, 36.0, 38.0, 40.0]\n",
    "param_grid = [{'C': param_range, 'kernel': ['linear'], 'random_state': [0]}]"
   ]
  },
  {
   "cell_type": "code",
   "execution_count": 129,
   "metadata": {},
   "outputs": [
    {
     "name": "stdout",
     "output_type": "stream",
     "text": [
      "0.85\n",
      "{'C': 28.0, 'kernel': 'linear', 'random_state': 0}\n"
     ]
    }
   ],
   "source": [
    "gs = GridSearchCV(estimator=lin_svm, param_grid=param_grid, scoring='accuracy', cv=10, n_jobs=2)\n",
    "gs = gs.fit(X, y)\n",
    "print(gs.best_score_)\n",
    "print(gs.best_params_)"
   ]
  },
  {
   "cell_type": "markdown",
   "metadata": {},
   "source": [
    "The search seems to have leveled off at an accuracy of 85% with C=28.0.\n",
    "Re-train the model with this setting and submit for new results.\n"
   ]
  },
  {
   "cell_type": "code",
   "execution_count": 131,
   "metadata": {},
   "outputs": [],
   "source": [
    "# With linear SVM having the highest score, let's train on all the data using that model\n",
    "lin_svm = SVC(kernel='linear', C=28.0, random_state=rs, probability=True)\n",
    "lin_svm.fit(X, y)\n",
    "X_test = df_x_test.drop('patient_id', axis=1).values\n",
    "y_pred = lin_svm.predict_proba(X_test)"
   ]
  },
  {
   "cell_type": "code",
   "execution_count": 133,
   "metadata": {},
   "outputs": [],
   "source": [
    "df_submit = pd.DataFrame(data=df_x_test['patient_id'], columns=['patient_id'])\n",
    "df_submit['heart_disease_present'] = y_pred[:,1]\n",
    "df_submit.to_csv('../models/sub_02.csv', index=False)"
   ]
  },
  {
   "cell_type": "markdown",
   "metadata": {},
   "source": [
    "# Results\n",
    "This second model yielded a log-loss of 0.37185 which is worse than my first submission.\n",
    "\n",
    "I could be overtraining to the data. I should look at metrics other than accuracy to get a handle on how the models are behaving."
   ]
  },
  {
   "cell_type": "code",
   "execution_count": null,
   "metadata": {},
   "outputs": [],
   "source": []
  }
 ],
 "metadata": {
  "kernelspec": {
   "display_name": "Python 3",
   "language": "python",
   "name": "python3"
  },
  "language_info": {
   "codemirror_mode": {
    "name": "ipython",
    "version": 3
   },
   "file_extension": ".py",
   "mimetype": "text/x-python",
   "name": "python",
   "nbconvert_exporter": "python",
   "pygments_lexer": "ipython3",
   "version": "3.6.6"
  }
 },
 "nbformat": 4,
 "nbformat_minor": 2
}
